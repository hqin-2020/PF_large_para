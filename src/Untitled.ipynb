{
 "cells": [
  {
   "cell_type": "code",
   "execution_count": 16,
   "id": "22e63670",
   "metadata": {},
   "outputs": [],
   "source": [
    "import numpy as np\n",
    "import scipy as sp\n",
    "import pandas as pd\n",
    "import matplotlib.pyplot as plt\n",
    "import seaborn as sns\n",
    "import time\n",
    "from tqdm import tqdm\n",
    "import pickle\n",
    "import os\n",
    "import multiprocessing\n",
    "from PF_Aso1_0_CPU import *\n",
    "\n",
    "workdir = os.path.dirname(os.getcwd())\n",
    "srcdir = os.getcwd()\n",
    "datadir = workdir + '/data/'\n",
    "outputdir = workdir + '/output/'"
   ]
  },
  {
   "cell_type": "code",
   "execution_count": 17,
   "id": "31cbdf4d",
   "metadata": {},
   "outputs": [
    {
     "name": "stderr",
     "output_type": "stream",
     "text": [
      "100%|█████████████████████████████████████████████████████████████████████████████████████████████████████████████████████████████████████████████████████████████| 10000/10000 [00:07<00:00, 1290.57it/s]\n"
     ]
    },
    {
     "name": "stdout",
     "output_type": "stream",
     "text": [
      "12.588054180145264\n"
     ]
    }
   ],
   "source": [
    "seed = 7\n",
    "\n",
    "obs_series = pd.read_csv(datadir + 'data.csv', delimiter=',')\n",
    "obs_series = np.array(obs_series.iloc[:,1:]).T\n",
    "\n",
    "T = obs_series.shape[1]\n",
    "N = 10000\n",
    "Λ_scale = 1.0\n",
    "cd_scale = 1.0\n",
    "\n",
    "case = 'actual data, seed = ' + str(seed) + ', T = ' + str(T) + ', N = ' + str(N) + ', Λ_scale = ' + str(Λ_scale) + ', cd_scale = ' + str(cd_scale)\n",
    "try: \n",
    "    casedir = outputdir + case  + '/'\n",
    "    os.mkdir(casedir)\n",
    "except:\n",
    "    casedir = outputdir + case  + '/'\n",
    "\n",
    "np.random.seed(seed)\n",
    "start_time = time.time()\n",
    "\n",
    "D_0 = obs_series[:,[0]]\n",
    "\n",
    "Input_0 = [[D_0, Λ_scale, cd_scale] for i in range(N)]\n",
    "pool = multiprocessing.Pool()\n",
    "Output_0 = pool.map(init, tqdm(Input_0))\n",
    "del(Input_0)\n",
    "θ_t_particle = [i[0] for i in Output_0]\n",
    "X_t_particle = [i[1] for i in Output_0]\n",
    "H_t_particle = [i[2] for i in Output_0]\n",
    "del(Output_0)\n",
    "with open(casedir + 'θ_0.pkl', 'wb') as f:\n",
    "    pickle.dump(θ_t_particle, f)\n",
    "del(θ_t_particle)\n",
    "# with open(casedir + 'X_0.pkl', 'wb') as f:\n",
    "#     pickle.dump(X_t_particle, f)\n",
    "# with open(casedir + 'H_0.pkl', 'wb') as f:\n",
    "#     pickle.dump(H_t_particle, f)\n",
    "with open(casedir + 'count_0.pkl', 'wb') as f:\n",
    "    pickle.dump(list(np.ones(N)), f)\n",
    "with open(casedir + 'w_0.pkl', 'wb') as f:\n",
    "    pickle.dump(list(np.ones(N)/N), f)\n",
    "run_time = time.time() - start_time\n",
    "print(run_time) "
   ]
  },
  {
   "cell_type": "code",
   "execution_count": 18,
   "id": "ca59b5a1",
   "metadata": {},
   "outputs": [],
   "source": [
    "def draw_para(b, Λ, c, d):\n",
    "    ζ = sp.stats.gamma.rvs(c/2+1, loc = 0, scale = 1/(d/2))\n",
    "    σ2 = 1/ζ\n",
    "    β = np.random.multivariate_normal(b.flatten(), sp.linalg.inv(ζ*Λ)).reshape(-1,1)\n",
    "    return β, σ2"
   ]
  },
  {
   "cell_type": "code",
   "execution_count": 19,
   "id": "826f4237",
   "metadata": {},
   "outputs": [],
   "source": [
    "b = [H_t_particle[i][0][0] for i in range(len(H_t_particle))]\n",
    "Λ = [H_t_particle[i][0][1] for i in range(len(H_t_particle))]\n",
    "c = [H_t_particle[i][0][2] for i in range(len(H_t_particle))]\n",
    "d = [H_t_particle[i][0][3] for i in range(len(H_t_particle))]"
   ]
  },
  {
   "cell_type": "code",
   "execution_count": 22,
   "id": "358c1c16",
   "metadata": {},
   "outputs": [
    {
     "name": "stdout",
     "output_type": "stream",
     "text": [
      "CPU times: user 626 ms, sys: 1.11 s, total: 1.74 s\n",
      "Wall time: 2.13 s\n"
     ]
    }
   ],
   "source": [
    "%%time\n",
    "ζ = sp.stats.gamma.rvs(np.array(c)/2+1, loc = 0, scale = 1/(np.array(d)/2))\n",
    "σ2 = 1/ζ\n",
    "mean = np.array(b)\n",
    "cov = np.multiply(np.repeat(ζ,2).reshape(-1,1),sp.linalg.block_diag(*Λ))"
   ]
  },
  {
   "cell_type": "code",
   "execution_count": 27,
   "id": "c7643979",
   "metadata": {},
   "outputs": [],
   "source": [
    "β = np.random.multivariate_normal(mean.flatten(), cov).reshape(-1,1)"
   ]
  },
  {
   "cell_type": "code",
   "execution_count": 43,
   "id": "784b12df",
   "metadata": {},
   "outputs": [
    {
     "data": {
      "text/plain": [
       "(100000,)"
      ]
     },
     "execution_count": 43,
     "metadata": {},
     "output_type": "execute_result"
    }
   ],
   "source": [
    "ζ.shape"
   ]
  },
  {
   "cell_type": "code",
   "execution_count": 30,
   "id": "0bff9628",
   "metadata": {},
   "outputs": [
    {
     "data": {
      "text/plain": [
       "True"
      ]
     },
     "execution_count": 30,
     "metadata": {},
     "output_type": "execute_result"
    }
   ],
   "source": [
    "50 in [50,100,150,200,250]"
   ]
  },
  {
   "cell_type": "code",
   "execution_count": 28,
   "id": "1399afca",
   "metadata": {},
   "outputs": [
    {
     "data": {
      "text/plain": [
       "array([[<generator object <genexpr> at 0x7fda07a8dc80>]], dtype=object)"
      ]
     },
     "execution_count": 28,
     "metadata": {},
     "output_type": "execute_result"
    }
   ],
   "source": [
    "sp.linalg.block_diag(Λ[i] for i in range(len(Λ)))"
   ]
  },
  {
   "cell_type": "code",
   "execution_count": null,
   "id": "6944c31d",
   "metadata": {},
   "outputs": [],
   "source": []
  }
 ],
 "metadata": {
  "kernelspec": {
   "display_name": "Python 3 (ipykernel)",
   "language": "python",
   "name": "python3"
  },
  "language_info": {
   "codemirror_mode": {
    "name": "ipython",
    "version": 3
   },
   "file_extension": ".py",
   "mimetype": "text/x-python",
   "name": "python",
   "nbconvert_exporter": "python",
   "pygments_lexer": "ipython3",
   "version": "3.9.12"
  }
 },
 "nbformat": 4,
 "nbformat_minor": 5
}
